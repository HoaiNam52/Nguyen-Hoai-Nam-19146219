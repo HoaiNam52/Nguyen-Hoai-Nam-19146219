{
  "nbformat": 4,
  "nbformat_minor": 0,
  "metadata": {
    "colab": {
      "name": "bac2_original.ipynb",
      "provenance": [],
      "collapsed_sections": []
    },
    "kernelspec": {
      "name": "python3",
      "display_name": "Python 3"
    },
    "language_info": {
      "name": "python"
    }
  },
  "cells": [
    {
      "cell_type": "code",
      "execution_count": null,
      "metadata": {
        "id": "yNkR85kqKj7B"
      },
      "outputs": [],
      "source": [
        "import csv\n",
        "import math as m\n",
        "l1 = 50\n",
        "l2 = 40\n",
        "with open('datarobot2bac.csv','w') as file:\n",
        "  writer = csv.writer(file)\n",
        "  writer.writerow(['tt1','tt2','Px','Py'])\n",
        "  for tt1 in range(-180,180,1):\n",
        "    for tt2 in range(-180,180,1):\n",
        "      tt1 = (tt1*m.pi)/180\n",
        "      tt2 = (tt2*m.pi)/180\n",
        "      Px = l1*m.cos(tt1) + l2*m.cos(tt1+tt2)\n",
        "      Py = l1*m.sin(tt1) + l2*m.sin(tt1+tt2)\n",
        "      writer.writerow([tt1,tt2,Px,Py])"
      ]
    },
    {
      "cell_type": "code",
      "source": [
        "from keras.models import Sequential\n",
        "from keras.layers import Dense, Activation, Dropout\n",
        "model = Sequential()\n",
        "model.add(Dense(20,activation='relu',input_shape=(2,)))\n",
        "model.add(Dense(20,activation='relu'))\n",
        "model.add(Dense(20,activation='relu'))\n",
        "model.add(Dense(2,activation='Softmax'))\n",
        "print(model.summary())"
      ],
      "metadata": {
        "colab": {
          "base_uri": "https://localhost:8080/"
        },
        "id": "dDyaEOZ-KrR5",
        "outputId": "7e2e42b9-2d8a-4548-da0a-b8d56a989419"
      },
      "execution_count": null,
      "outputs": [
        {
          "output_type": "stream",
          "name": "stdout",
          "text": [
            "Model: \"sequential_4\"\n",
            "_________________________________________________________________\n",
            " Layer (type)                Output Shape              Param #   \n",
            "=================================================================\n",
            " dense_16 (Dense)            (None, 20)                60        \n",
            "                                                                 \n",
            " dense_17 (Dense)            (None, 20)                420       \n",
            "                                                                 \n",
            " dense_18 (Dense)            (None, 20)                420       \n",
            "                                                                 \n",
            " dense_19 (Dense)            (None, 2)                 42        \n",
            "                                                                 \n",
            "=================================================================\n",
            "Total params: 942\n",
            "Trainable params: 942\n",
            "Non-trainable params: 0\n",
            "_________________________________________________________________\n",
            "None\n"
          ]
        }
      ]
    },
    {
      "cell_type": "code",
      "source": [
        "import pandas as pd\n",
        "from sklearn.model_selection import train_test_split\n",
        "import numpy as np\n",
        "data = pd.read_csv('datarobot2bac.csv')\n",
        "y = data.drop(data.columns[2:],axis = 1)\n",
        "x = data.drop(data.columns[:2],axis = 1)\n",
        "x_train,x_test,y_train,y_test = train_test_split(x,y,test_size=0.25)"
      ],
      "metadata": {
        "id": "lvfk0NRuKs30"
      },
      "execution_count": null,
      "outputs": []
    },
    {
      "cell_type": "code",
      "source": [
        "from tensorflow.keras.optimizers import RMSprop\n",
        "model.compile(loss='mse',optimizer=RMSprop(),metrics=['accuracy'])\n",
        "history = model.fit(x_train,y_train,batch_size = 128,epochs=50,verbose=1,validation_data = (x_test, y_test))"
      ],
      "metadata": {
        "colab": {
          "base_uri": "https://localhost:8080/"
        },
        "id": "F4wFAL3XLAVi",
        "outputId": "57a3a955-a82f-4f58-96c6-3b5104ef10a9"
      },
      "execution_count": null,
      "outputs": [
        {
          "output_type": "stream",
          "name": "stdout",
          "text": [
            "Epoch 1/50\n",
            "760/760 [==============================] - 3s 3ms/step - loss: 1.3654 - accuracy: 0.9829 - val_loss: 1.3608 - val_accuracy: 0.9709\n",
            "Epoch 2/50\n",
            "760/760 [==============================] - 2s 2ms/step - loss: 1.3446 - accuracy: 0.9796 - val_loss: 1.3555 - val_accuracy: 0.9780\n",
            "Epoch 3/50\n",
            "760/760 [==============================] - 2s 2ms/step - loss: 1.3419 - accuracy: 0.9881 - val_loss: 1.3534 - val_accuracy: 0.9939\n",
            "Epoch 4/50\n",
            "760/760 [==============================] - 2s 2ms/step - loss: 1.3410 - accuracy: 0.9914 - val_loss: 1.3530 - val_accuracy: 0.9937\n",
            "Epoch 5/50\n",
            "760/760 [==============================] - 2s 2ms/step - loss: 1.3407 - accuracy: 0.9933 - val_loss: 1.3529 - val_accuracy: 0.9969\n",
            "Epoch 6/50\n",
            "760/760 [==============================] - 2s 2ms/step - loss: 1.3407 - accuracy: 0.9949 - val_loss: 1.3531 - val_accuracy: 0.9996\n",
            "Epoch 7/50\n",
            "760/760 [==============================] - 1s 2ms/step - loss: 1.3407 - accuracy: 0.9957 - val_loss: 1.3530 - val_accuracy: 0.9939\n",
            "Epoch 8/50\n",
            "760/760 [==============================] - 2s 2ms/step - loss: 1.3405 - accuracy: 0.9960 - val_loss: 1.3530 - val_accuracy: 0.9937\n",
            "Epoch 9/50\n",
            "760/760 [==============================] - 2s 2ms/step - loss: 1.3405 - accuracy: 0.9963 - val_loss: 1.3529 - val_accuracy: 0.9996\n",
            "Epoch 10/50\n",
            "760/760 [==============================] - 2s 2ms/step - loss: 1.3405 - accuracy: 0.9960 - val_loss: 1.3531 - val_accuracy: 0.9996\n",
            "Epoch 11/50\n",
            "760/760 [==============================] - 2s 2ms/step - loss: 1.3405 - accuracy: 0.9968 - val_loss: 1.3529 - val_accuracy: 0.9996\n",
            "Epoch 12/50\n",
            "760/760 [==============================] - 2s 2ms/step - loss: 1.3405 - accuracy: 0.9968 - val_loss: 1.3529 - val_accuracy: 0.9996\n",
            "Epoch 13/50\n",
            "760/760 [==============================] - 1s 2ms/step - loss: 1.3408 - accuracy: 0.9968 - val_loss: 1.3529 - val_accuracy: 0.9969\n",
            "Epoch 14/50\n",
            "760/760 [==============================] - 2s 2ms/step - loss: 1.3405 - accuracy: 0.9967 - val_loss: 1.3530 - val_accuracy: 0.9913\n",
            "Epoch 15/50\n",
            "760/760 [==============================] - 2s 2ms/step - loss: 1.3404 - accuracy: 0.9974 - val_loss: 1.3529 - val_accuracy: 0.9969\n",
            "Epoch 16/50\n",
            "760/760 [==============================] - 2s 2ms/step - loss: 1.3405 - accuracy: 0.9972 - val_loss: 1.3529 - val_accuracy: 0.9969\n",
            "Epoch 17/50\n",
            "760/760 [==============================] - 2s 2ms/step - loss: 1.3405 - accuracy: 0.9971 - val_loss: 1.3528 - val_accuracy: 0.9996\n",
            "Epoch 18/50\n",
            "760/760 [==============================] - 2s 2ms/step - loss: 1.3404 - accuracy: 0.9977 - val_loss: 1.3528 - val_accuracy: 0.9969\n",
            "Epoch 19/50\n",
            "760/760 [==============================] - 2s 2ms/step - loss: 1.3403 - accuracy: 0.9979 - val_loss: 1.3528 - val_accuracy: 0.9969\n",
            "Epoch 20/50\n",
            "760/760 [==============================] - 2s 2ms/step - loss: 1.3403 - accuracy: 0.9977 - val_loss: 1.3528 - val_accuracy: 0.9996\n",
            "Epoch 21/50\n",
            "760/760 [==============================] - 2s 2ms/step - loss: 1.3403 - accuracy: 0.9975 - val_loss: 1.3528 - val_accuracy: 0.9939\n",
            "Epoch 22/50\n",
            "760/760 [==============================] - 1s 2ms/step - loss: 1.3405 - accuracy: 0.9975 - val_loss: 1.3527 - val_accuracy: 0.9996\n",
            "Epoch 23/50\n",
            "760/760 [==============================] - 1s 2ms/step - loss: 1.3404 - accuracy: 0.9974 - val_loss: 1.3527 - val_accuracy: 0.9969\n",
            "Epoch 24/50\n",
            "760/760 [==============================] - 2s 2ms/step - loss: 1.3405 - accuracy: 0.9977 - val_loss: 1.3527 - val_accuracy: 0.9996\n",
            "Epoch 25/50\n",
            "760/760 [==============================] - 2s 2ms/step - loss: 1.3405 - accuracy: 0.9979 - val_loss: 1.3527 - val_accuracy: 0.9996\n",
            "Epoch 26/50\n",
            "760/760 [==============================] - 2s 2ms/step - loss: 1.3402 - accuracy: 0.9981 - val_loss: 1.3527 - val_accuracy: 0.9996\n",
            "Epoch 27/50\n",
            "760/760 [==============================] - 2s 2ms/step - loss: 1.3401 - accuracy: 0.9980 - val_loss: 1.3527 - val_accuracy: 0.9969\n",
            "Epoch 28/50\n",
            "760/760 [==============================] - 2s 2ms/step - loss: 1.3401 - accuracy: 0.9980 - val_loss: 1.3528 - val_accuracy: 0.9996\n",
            "Epoch 29/50\n",
            "760/760 [==============================] - 2s 2ms/step - loss: 1.3402 - accuracy: 0.9981 - val_loss: 1.3527 - val_accuracy: 0.9969\n",
            "Epoch 30/50\n",
            "760/760 [==============================] - 2s 2ms/step - loss: 1.3400 - accuracy: 0.9982 - val_loss: 1.3526 - val_accuracy: 0.9970\n",
            "Epoch 31/50\n",
            "760/760 [==============================] - 2s 2ms/step - loss: 1.3401 - accuracy: 0.9979 - val_loss: 1.3526 - val_accuracy: 0.9970\n",
            "Epoch 32/50\n",
            "760/760 [==============================] - 2s 2ms/step - loss: 1.3400 - accuracy: 0.9980 - val_loss: 1.3527 - val_accuracy: 0.9969\n",
            "Epoch 33/50\n",
            "760/760 [==============================] - 2s 2ms/step - loss: 1.3400 - accuracy: 0.9978 - val_loss: 1.3526 - val_accuracy: 0.9970\n",
            "Epoch 34/50\n",
            "760/760 [==============================] - 2s 2ms/step - loss: 1.3400 - accuracy: 0.9980 - val_loss: 1.3527 - val_accuracy: 0.9996\n",
            "Epoch 35/50\n",
            "760/760 [==============================] - 2s 2ms/step - loss: 1.3400 - accuracy: 0.9978 - val_loss: 1.3525 - val_accuracy: 0.9970\n",
            "Epoch 36/50\n",
            "760/760 [==============================] - 2s 2ms/step - loss: 1.3399 - accuracy: 0.9980 - val_loss: 1.3525 - val_accuracy: 0.9996\n",
            "Epoch 37/50\n",
            "760/760 [==============================] - 2s 2ms/step - loss: 1.3399 - accuracy: 0.9981 - val_loss: 1.3525 - val_accuracy: 0.9970\n",
            "Epoch 38/50\n",
            "760/760 [==============================] - 2s 2ms/step - loss: 1.3399 - accuracy: 0.9979 - val_loss: 1.3527 - val_accuracy: 0.9996\n",
            "Epoch 39/50\n",
            "760/760 [==============================] - 2s 2ms/step - loss: 1.3399 - accuracy: 0.9978 - val_loss: 1.3526 - val_accuracy: 0.9970\n",
            "Epoch 40/50\n",
            "760/760 [==============================] - 2s 2ms/step - loss: 1.3399 - accuracy: 0.9980 - val_loss: 1.3527 - val_accuracy: 0.9996\n",
            "Epoch 41/50\n",
            "760/760 [==============================] - 2s 2ms/step - loss: 1.3399 - accuracy: 0.9979 - val_loss: 1.3527 - val_accuracy: 0.9937\n",
            "Epoch 42/50\n",
            "760/760 [==============================] - 2s 2ms/step - loss: 1.3399 - accuracy: 0.9981 - val_loss: 1.3522 - val_accuracy: 0.9971\n",
            "Epoch 43/50\n",
            "760/760 [==============================] - 2s 2ms/step - loss: 1.3399 - accuracy: 0.9981 - val_loss: 1.3522 - val_accuracy: 0.9971\n",
            "Epoch 44/50\n",
            "760/760 [==============================] - 2s 2ms/step - loss: 1.3399 - accuracy: 0.9983 - val_loss: 1.3523 - val_accuracy: 0.9997\n",
            "Epoch 45/50\n",
            "760/760 [==============================] - 2s 2ms/step - loss: 1.3399 - accuracy: 0.9986 - val_loss: 1.3522 - val_accuracy: 0.9997\n",
            "Epoch 46/50\n",
            "760/760 [==============================] - 2s 2ms/step - loss: 1.3399 - accuracy: 0.9982 - val_loss: 1.3520 - val_accuracy: 0.9998\n",
            "Epoch 47/50\n",
            "760/760 [==============================] - 2s 2ms/step - loss: 1.3398 - accuracy: 0.9986 - val_loss: 1.3520 - val_accuracy: 0.9998\n",
            "Epoch 48/50\n",
            "760/760 [==============================] - 2s 2ms/step - loss: 1.3398 - accuracy: 0.9983 - val_loss: 1.3520 - val_accuracy: 0.9998\n",
            "Epoch 49/50\n",
            "760/760 [==============================] - 2s 2ms/step - loss: 1.3399 - accuracy: 0.9985 - val_loss: 1.3520 - val_accuracy: 0.9998\n",
            "Epoch 50/50\n",
            "760/760 [==============================] - 2s 2ms/step - loss: 1.3399 - accuracy: 0.9982 - val_loss: 1.3522 - val_accuracy: 0.9971\n"
          ]
        }
      ]
    },
    {
      "cell_type": "code",
      "source": [
        "model.save('robot2bac.h5') "
      ],
      "metadata": {
        "id": "KNxkcw7VLIrp"
      },
      "execution_count": null,
      "outputs": []
    },
    {
      "cell_type": "code",
      "source": [
        "model.evaluate(x_test,y_test,verbose=1)"
      ],
      "metadata": {
        "colab": {
          "base_uri": "https://localhost:8080/"
        },
        "id": "uRD7vOAULY8q",
        "outputId": "3dbd26bc-d53e-42eb-8dcf-adaa6a031c52"
      },
      "execution_count": null,
      "outputs": [
        {
          "output_type": "stream",
          "name": "stdout",
          "text": [
            "1013/1013 [==============================] - 1s 1ms/step - loss: 1.3522 - accuracy: 0.9971\n"
          ]
        },
        {
          "output_type": "execute_result",
          "data": {
            "text/plain": [
              "[1.3521709442138672, 0.9970987439155579]"
            ]
          },
          "metadata": {},
          "execution_count": 24
        }
      ]
    },
    {
      "cell_type": "code",
      "source": [
        "import seaborn as sns\n",
        "import matplotlib.pyplot as plt\n",
        "plt.plot(history.history['accuracy'], color='blue', label='train')\n",
        "plt.plot(history.history['val_accuracy'], color='orange', label='test')\n",
        "plt.title('Model Accuracy')\n",
        "plt.ylabel('accuracy')\n",
        "plt.xlabel('epochs')\n",
        "plt.legend(['Train','validation'], loc = 'upper left')\n",
        "plt.show()"
      ],
      "metadata": {
        "colab": {
          "base_uri": "https://localhost:8080/",
          "height": 295
        },
        "id": "QhTRpA3eLUQQ",
        "outputId": "b1d8ff66-6fbe-420d-ef6c-8df5e3f7ff71"
      },
      "execution_count": null,
      "outputs": [
        {
          "output_type": "display_data",
          "data": {
            "text/plain": [
              "<Figure size 432x288 with 1 Axes>"
            ],
            "image/png": "[encoded data removed]"
          },
          "metadata": {
            "needs_background": "light"
          }
        }
      ]
    },
    {
      "cell_type": "code",
      "source": [
        "from tensorflow.keras.models import load_model\n",
        "model_robot2b = load_model('robot2bac.h5')"
      ],
      "metadata": {
        "id": "Ig745yCNLQgQ"
      },
      "execution_count": null,
      "outputs": []
    }
  ]
}