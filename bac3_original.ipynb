{
  "nbformat": 4,
  "nbformat_minor": 0,
  "metadata": {
    "colab": {
      "name": "bac3_original.ipynb",
      "provenance": [],
      "collapsed_sections": []
    },
    "kernelspec": {
      "name": "python3",
      "display_name": "Python 3"
    },
    "language_info": {
      "name": "python"
    }
  },
  "cells": [
    {
      "cell_type": "code",
      "execution_count": null,
      "metadata": {
        "id": "4dFvZbKrOjcB"
      },
      "outputs": [],
      "source": [
        "import csv\n",
        "import math as m\n",
        "l1 = 50\n",
        "l2 = 40\n",
        "l3 = 20\n",
        "with open('datarobot3b.csv','w') as file:\n",
        "  writer = csv.writer(file)\n",
        "  writer.writerow(['tt1','tt2','tt3','Px','Py'])\n",
        "  for tt1 in range(-180,180,2):\n",
        "    for tt2 in range(-180,180,2):\n",
        "      for tt3 in range(-180,180,2):\n",
        "        tt1 = (tt1*m.pi)/180\n",
        "        tt2 = (tt2*m.pi)/180\n",
        "        tt3 = (tt3*m.pi)/180\n",
        "        Px = l1*m.cos(tt1) + l2*m.cos(tt1+tt2) + l3*m.cos(tt1 + tt2 + tt3)\n",
        "        Py = l1*m.sin(tt1) + l2*m.sin(tt1+tt2) + l3*m.sin(tt1 + tt2 + tt3)\n",
        "        phi = tt1 + tt2 + tt3\n",
        "        writer.writerow([tt1,tt2,tt3,Px,Py])"
      ]
    },
    {
      "cell_type": "code",
      "source": [
        "import pandas as pd\n",
        "from sklearn.model_selection import train_test_split\n",
        "import numpy as np\n",
        "data = pd.read_csv('datarobot3b.csv')\n",
        "y = data.drop(data.columns[3:],axis = 1)\n",
        "x = data.drop(data.columns[:3],axis = 1)\n",
        "x_train,x_test,y_train,y_test = train_test_split(x,y,test_size=0.25)"
      ],
      "metadata": {
        "id": "gAprTWSoOvxa"
      },
      "execution_count": null,
      "outputs": []
    },
    {
      "cell_type": "code",
      "source": [
        "from keras.models import Sequential\n",
        "from keras.layers import Dense,Activation,Dropout #Dropout: gia tri dung xu li\n",
        "model=Sequential()\n",
        "model.add(Dense(20,activation='relu',input_shape=(2,)))\n",
        "model.add(Dense(20,activation='relu'))\n",
        "model.add(Dense(20,activation='relu'))\n",
        "model.add(Dense(3,activation='softmax'))\n",
        "model.summary()"
      ],
      "metadata": {
        "colab": {
          "base_uri": "https://localhost:8080/"
        },
        "id": "C4YnwPVOOzSB",
        "outputId": "489f8b7d-f9ee-40be-a4ec-82c384622ab0"
      },
      "execution_count": null,
      "outputs": [
        {
          "output_type": "stream",
          "name": "stdout",
          "text": [
            "Model: \"sequential_2\"\n",
            "_________________________________________________________________\n",
            " Layer (type)                Output Shape              Param #   \n",
            "=================================================================\n",
            " dense_8 (Dense)             (None, 20)                60        \n",
            "                                                                 \n",
            " dense_9 (Dense)             (None, 20)                420       \n",
            "                                                                 \n",
            " dense_10 (Dense)            (None, 20)                420       \n",
            "                                                                 \n",
            " dense_11 (Dense)            (None, 3)                 63        \n",
            "                                                                 \n",
            "=================================================================\n",
            "Total params: 963\n",
            "Trainable params: 963\n",
            "Non-trainable params: 0\n",
            "_________________________________________________________________\n"
          ]
        }
      ]
    },
    {
      "cell_type": "code",
      "source": [
        "from tensorflow.keras.optimizers import RMSprop\n",
        "model.compile(loss='mse',optimizer=RMSprop(),metrics=['accuracy'])\n",
        "history = model.fit(x_train,y_train,batch_size = 128,epochs=1,verbose=1,validation_data = (x_test, y_test))"
      ],
      "metadata": {
        "colab": {
          "base_uri": "https://localhost:8080/"
        },
        "id": "gJl08QqVO9_-",
        "outputId": "9f85ba24-90f2-4f4d-a19a-236f326e2fb9"
      },
      "execution_count": null,
      "outputs": [
        {
          "output_type": "stream",
          "name": "stdout",
          "text": [
            "34172/34172 [==============================] - 82s 2ms/step - loss: 0.9203 - accuracy: 0.9380 - val_loss: 0.9225 - val_accuracy: 0.9304\n"
          ]
        }
      ]
    },
    {
      "cell_type": "code",
      "source": [
        "model.save('robot3bac.h5')"
      ],
      "metadata": {
        "id": "22VgRfzaPaBt"
      },
      "execution_count": null,
      "outputs": []
    },
    {
      "cell_type": "code",
      "source": [
        "model.evaluate(x_test,y_test,verbose=1)"
      ],
      "metadata": {
        "colab": {
          "base_uri": "https://localhost:8080/"
        },
        "id": "2OODfbMFQGMO",
        "outputId": "723166fe-e1ca-4986-f29a-2cd02563c4fb"
      },
      "execution_count": null,
      "outputs": [
        {
          "output_type": "stream",
          "name": "stdout",
          "text": [
            "45563/45563 [==============================] - 64s 1ms/step - loss: 0.9225 - accuracy: 0.9304\n"
          ]
        },
        {
          "output_type": "execute_result",
          "data": {
            "text/plain": [
              "[0.9225295186042786, 0.930372416973114]"
            ]
          },
          "metadata": {},
          "execution_count": 10
        }
      ]
    },
    {
      "cell_type": "code",
      "source": [
        "import seaborn as sns\n",
        "import matplotlib.pyplot as plt\n",
        "plt.plot(history.history['accuracy'], color='blue', label='train')\n",
        "plt.plot(history.history['val_accuracy'], color='orange', label='test')\n",
        "plt.title('Model Accuracy')\n",
        "plt.ylabel('accuracy')\n",
        "plt.xlabel('epochs')\n",
        "plt.legend(['Train','validation'], loc = 'upper left')\n",
        "plt.show()"
      ],
      "metadata": {
        "colab": {
          "base_uri": "https://localhost:8080/",
          "height": 295
        },
        "id": "KrLLw5ItQJE2",
        "outputId": "8149760e-6128-4412-e75e-5d43479370fe"
      },
      "execution_count": null,
      "outputs": [
        {
          "output_type": "display_data",
          "data": {
            "text/plain": [
              "<Figure size 432x288 with 1 Axes>"
            ],
            "image/png": "[encoded data removed]"
          },
          "metadata": {
            "needs_background": "light"
          }
        }
      ]
    },
    {
      "cell_type": "code",
      "source": [
        "from tensorflow.keras.models import load_model\n",
        "model_robot3b = load_model('robot3bac.h5')"
      ],
      "metadata": {
        "id": "Juyx8_v6Ps3S"
      },
      "execution_count": null,
      "outputs": []
    }
  ]
}